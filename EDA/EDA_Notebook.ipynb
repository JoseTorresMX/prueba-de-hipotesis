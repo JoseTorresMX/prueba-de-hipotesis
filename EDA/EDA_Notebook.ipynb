{
 "cells": [
  {
   "cell_type": "code",
   "execution_count": 45,
   "metadata": {},
   "outputs": [],
   "source": [
    "import pandas as pd\n",
    "import numpy as np\n",
    "import matplotlib.pyplot as plt\n",
    "import seaborn as sns\n",
    "import glob"
   ]
  },
  {
   "cell_type": "code",
   "execution_count": 46,
   "metadata": {},
   "outputs": [
    {
     "name": "stdout",
     "output_type": "stream",
     "text": [
      "    Unnamed: 0   temp  humidity  pressure    description          dt  \\\n",
      "0            0  23.80        64      1019   Sky is Clear  1435387651   \n",
      "1            1  24.68        60      1018   Sky is Clear  1435390804   \n",
      "2            2  25.12        60      1018   Sky is Clear  1435394206   \n",
      "3            3  25.54        60      1018   Sky is Clear  1435398681   \n",
      "4            4  27.42        57      1017   Sky is Clear  1435402112   \n",
      "5            5  28.97        47      1017   Sky is Clear  1435405743   \n",
      "6            6  29.36        45      1017   Sky is Clear  1435409402   \n",
      "7            7  30.56        45      1015   Sky is Clear  1435416605   \n",
      "8            8  31.04        48      1015   Sky is Clear  1435420220   \n",
      "9            9  31.32        48      1014   Sky is Clear  1435423957   \n",
      "10          10  30.69        48      1014   Sky is Clear  1435427586   \n",
      "11          11  25.15        73      1015   Sky is Clear  1435438091   \n",
      "12          12  24.57        73      1016   Sky is Clear  1435441890   \n",
      "13          13  24.00        73      1016   Sky is Clear  1435445529   \n",
      "14          14  22.19        77      1017  broken clouds  1435452880   \n",
      "15          15  20.50        77      1017  broken clouds  1435456195   \n",
      "16          16  18.94        77      1018     few clouds  1435459725   \n",
      "17          17  19.07        77      1018   Sky is Clear  1435463493   \n",
      "18          18  19.05        82      1018   Sky is Clear  1435466876   \n",
      "19          19  21.20        82      1018   Sky is Clear  1435470573   \n",
      "\n",
      "    wind_speed  wind_deg    city  day  dist       tipo_dia  \n",
      "0          1.0         0  Torino    5   357  Fin de semana  \n",
      "1          2.1        80  Torino    5   357  Fin de semana  \n",
      "2          2.6        50  Torino    5   357  Fin de semana  \n",
      "3          2.6        50  Torino    5   357  Fin de semana  \n",
      "4          2.1        70  Torino    5   357  Fin de semana  \n",
      "5          1.5        60  Torino    5   357  Fin de semana  \n",
      "6          1.5       360  Torino    5   357  Fin de semana  \n",
      "7          2.1       170  Torino    5   357  Fin de semana  \n",
      "8          1.0         0  Torino    5   357  Fin de semana  \n",
      "9          2.1        90  Torino    5   357  Fin de semana  \n",
      "10         2.1        50  Torino    5   357  Fin de semana  \n",
      "11         2.6        10  Torino    5   357  Fin de semana  \n",
      "12         3.1       340  Torino    5   357  Fin de semana  \n",
      "13         3.1       340  Torino    6   357  Fin de semana  \n",
      "14         2.1       340  Torino    6   357  Fin de semana  \n",
      "15         2.1       340  Torino    6   357  Fin de semana  \n",
      "16         2.6        30  Torino    6   357  Fin de semana  \n",
      "17         2.1       360  Torino    6   357  Fin de semana  \n",
      "18         1.5        10  Torino    6   357  Fin de semana  \n",
      "19         1.0        40  Torino    6   357  Fin de semana  \n"
     ]
    }
   ],
   "source": [
    "ruta_csv = \"../docs/torino_270615.csv\"\n",
    "datos=pd.read_csv(ruta_csv, parse_dates=['day'])\n",
    "\n",
    "datos['day']=datos['day'].dt.day_of_week\n",
    "\n",
    "datos['tipo_dia']='Laboral'\n",
    "datos.loc[datos['day'].isin([5,6]),'tipo_dia']='Fin de semana'\n",
    "print(datos.head(22))"
   ]
  }
 ],
 "metadata": {
  "kernelspec": {
   "display_name": "hipotesisTest",
   "language": "python",
   "name": "python3"
  },
  "language_info": {
   "codemirror_mode": {
    "name": "ipython",
    "version": 3
   },
   "file_extension": ".py",
   "mimetype": "text/x-python",
   "name": "python",
   "nbconvert_exporter": "python",
   "pygments_lexer": "ipython3",
   "version": "3.12.2"
  }
 },
 "nbformat": 4,
 "nbformat_minor": 2
}
